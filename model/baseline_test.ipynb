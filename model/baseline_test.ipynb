{
 "cells": [
  {
   "cell_type": "markdown",
   "metadata": {},
   "source": [
    "- grid2region:栅格转化为区域标签{\"2065-1268\": 5761}\n",
    "- region_distance:区域之间距离"
   ]
  },
  {
   "cell_type": "code",
   "execution_count": 1,
   "metadata": {},
   "outputs": [
    {
     "name": "stdout",
     "output_type": "stream",
     "text": [
      "Shape of region distance: (10656, 10656)\n"
     ]
    }
   ],
   "source": [
    "import json\n",
    "import numpy as np\n",
    "\n",
    "grid2region = json.load(open('../data/region_data/region_beijing_grid2region_REID_no_less10.json'))  #GRID2REGION lookup\n",
    "region_distacne = np.load('../data/region_data/region_distance_no_less10.npy') #Reigon distance lookup\n",
    "print('Shape of region distance:', region_distacne.shape)"
   ]
  },
  {
   "cell_type": "markdown",
   "metadata": {},
   "source": [
    "区域边界"
   ]
  },
  {
   "cell_type": "code",
   "execution_count": 2,
   "metadata": {},
   "outputs": [],
   "source": [
    "RN = len(region_distacne)\n",
    "lng_ld = 116.1\n",
    "lat_ld = 39.7\n",
    "lng_max = 116.7\n",
    "lat_max = 40.2\n",
    "horizontal_number = 3000\n",
    "vertical_number = 2500"
   ]
  },
  {
   "cell_type": "markdown",
   "metadata": {},
   "source": [
    "坐标转化为栅格，栅格转化为区域标签"
   ]
  },
  {
   "cell_type": "code",
   "execution_count": 3,
   "metadata": {},
   "outputs": [
    {
     "name": "stdout",
     "output_type": "stream",
     "text": [
      "678-711\n",
      "5761\n"
     ]
    }
   ],
   "source": [
    "def transcoor2grid(lng,lat):\n",
    "\treturn str(int((lng-lng_ld)/0.0002)) + '-' + str(int((lat-lat_ld)/0.0002))\n",
    "\n",
    "def transgrid2region(grid):\n",
    "\tcount = 0\n",
    "\twhile(1):\n",
    "\t\tif grid in grid2region:\n",
    "\t\t\treturn grid2region[grid]\n",
    "\t\telse:\n",
    "\t\t\tgrid_lng, grid_lat = int(grid.split('-')[0]),int(grid.split('-')[1])\n",
    "\t\t\tif count % 2 == 0:\n",
    "\t\t\t\tif grid_lat >= 1:\n",
    "\t\t\t\t\tgrid_lat -= 1\n",
    "\t\t\telse: \n",
    "\t\t\t\tif grid_lng >= 1:\n",
    "\t\t\t\t\tgrid_lng -= 1\n",
    "\t\t\tgrid = str(grid_lng) + '-' + str(grid_lat)\n",
    "\t\t\tcount += 1\n",
    "\n",
    "print(transcoor2grid(116.2356,39.8423))   \n",
    "print(transgrid2region(\"2065-1268\"))        "
   ]
  },
  {
   "cell_type": "markdown",
   "metadata": {},
   "source": [
    "加载参数"
   ]
  },
  {
   "cell_type": "code",
   "execution_count": 4,
   "metadata": {},
   "outputs": [
    {
     "name": "stderr",
     "output_type": "stream",
     "text": [
      "/home/liwei/anaconda3/envs/attnmove/lib/python3.6/site-packages/tensorflow/python/framework/dtypes.py:493: FutureWarning: Passing (type, 1) or '1type' as a synonym of type is deprecated; in a future version of numpy, it will be understood as (type, (1,)) / '(1,)type'.\n",
      "  _np_qint8 = np.dtype([(\"qint8\", np.int8, 1)])\n",
      "/home/liwei/anaconda3/envs/attnmove/lib/python3.6/site-packages/tensorflow/python/framework/dtypes.py:494: FutureWarning: Passing (type, 1) or '1type' as a synonym of type is deprecated; in a future version of numpy, it will be understood as (type, (1,)) / '(1,)type'.\n",
      "  _np_quint8 = np.dtype([(\"quint8\", np.uint8, 1)])\n",
      "/home/liwei/anaconda3/envs/attnmove/lib/python3.6/site-packages/tensorflow/python/framework/dtypes.py:495: FutureWarning: Passing (type, 1) or '1type' as a synonym of type is deprecated; in a future version of numpy, it will be understood as (type, (1,)) / '(1,)type'.\n",
      "  _np_qint16 = np.dtype([(\"qint16\", np.int16, 1)])\n",
      "/home/liwei/anaconda3/envs/attnmove/lib/python3.6/site-packages/tensorflow/python/framework/dtypes.py:496: FutureWarning: Passing (type, 1) or '1type' as a synonym of type is deprecated; in a future version of numpy, it will be understood as (type, (1,)) / '(1,)type'.\n",
      "  _np_quint16 = np.dtype([(\"quint16\", np.uint16, 1)])\n",
      "/home/liwei/anaconda3/envs/attnmove/lib/python3.6/site-packages/tensorflow/python/framework/dtypes.py:497: FutureWarning: Passing (type, 1) or '1type' as a synonym of type is deprecated; in a future version of numpy, it will be understood as (type, (1,)) / '(1,)type'.\n",
      "  _np_qint32 = np.dtype([(\"qint32\", np.int32, 1)])\n",
      "/home/liwei/anaconda3/envs/attnmove/lib/python3.6/site-packages/tensorflow/python/framework/dtypes.py:502: FutureWarning: Passing (type, 1) or '1type' as a synonym of type is deprecated; in a future version of numpy, it will be understood as (type, (1,)) / '(1,)type'.\n",
      "  np_resource = np.dtype([(\"resource\", np.ubyte, 1)])\n"
     ]
    }
   ],
   "source": [
    "import tensorflow as tf"
   ]
  },
  {
   "cell_type": "code",
   "execution_count": 5,
   "metadata": {},
   "outputs": [
    {
     "name": "stdout",
     "output_type": "stream",
     "text": [
      "max_seq_length =  288\n",
      "train_file:/home/liwei/AttnMove/data/pos.train.txt\n",
      "valid_file:/home/liwei/AttnMove/data/pos.validate.txt\n",
      "test_file:/home/liwei/AttnMove/data/pos.test.txt\n",
      "vocab_file:/home/liwei/AttnMove/data/pos.vocab.txt\n",
      "logdir:../log/log_dir/pos.bsize50.epoch500.seqlen288.dynamic_lr.present0.75.partition10.hidden64.self_attn/\n"
     ]
    }
   ],
   "source": [
    "import self_attn_hyperparams_region\n",
    "# jupyter中使用hyperparams需要添加\n",
    "import sys\n",
    "sys.argv = ['run.py']\n",
    "\n",
    "hparams = self_attn_hyperparams_region.load_hyperparams()\n",
    "train_dataset_hparams, valid_dataset_hparams, test_dataset_hparams, \\\n",
    "\tdecoder_hparams, opt_hparams, opt_vars, loss_hparams, args = \\\n",
    "\t\thparams['train_dataset_hparams'], hparams['eval_dataset_hparams'], \\\n",
    "\t\thparams['test_dataset_hparams'], hparams['decoder_hparams'], \\\n",
    "\t\thparams['opt_hparams'], hparams['opt_vars'], \\\n",
    "\t\thparams['loss_hparams'], hparams['args']"
   ]
  },
  {
   "cell_type": "code",
   "execution_count": 6,
   "metadata": {},
   "outputs": [],
   "source": [
    "import os\n",
    "import setproctitle\n",
    "os.environ[\"CUDA_VISIBLE_DEVICES\"] = args.gpu\n",
    "setproctitle.setproctitle(args.process_name)"
   ]
  },
  {
   "cell_type": "markdown",
   "metadata": {},
   "source": [
    "周末为0，weekend为1"
   ]
  },
  {
   "cell_type": "code",
   "execution_count": 7,
   "metadata": {},
   "outputs": [
    {
     "name": "stdout",
     "output_type": "stream",
     "text": [
      "{'num_epochs': 1, 'seed': 1234, 'shuffle': False, 'dataset': {'files': '/home/liwei/AttnMove/data/pos.train.txt', 'vocab_file': '/home/liwei/AttnMove/data/pos.vocab.txt', 'max_seq_length': 288, 'bos_token': '<BOS>', 'eos_token': '<EOS>', 'length_filter_mode': 'truncate'}, 'batch_size': 50, 'allow_smaller_final_batch': False}\n",
      "{'num_epochs': 1, 'seed': 1234, 'shuffle': False, 'dataset': {'files': '/home/liwei/AttnMove/data/pos.validate.txt', 'vocab_file': '/home/liwei/AttnMove/data/pos.vocab.txt', 'max_seq_length': 288, 'bos_token': '<BOS>', 'eos_token': '<EOS>', 'length_filter_mode': 'truncate'}, 'batch_size': 50, 'allow_smaller_final_batch': False}\n",
      "{'num_epochs': 1, 'seed': 1234, 'shuffle': False, 'dataset': {'files': '/home/liwei/AttnMove/data/pos.test.txt', 'vocab_file': '/home/liwei/AttnMove/data/pos.vocab.txt', 'max_seq_length': 288, 'bos_token': '<BOS>', 'eos_token': '<EOS>', 'length_filter_mode': 'truncate'}, 'batch_size': 50, 'allow_smaller_final_batch': False}\n"
     ]
    }
   ],
   "source": [
    "# Dataset \n",
    "day_dic = {\"0\":1, \"1\":0, \"2\":0,\n",
    "\t\t\t\"3\":1, \"4\":1, \"5\":1, \"6\":1, \"7\":1, \"8\":0, \"9\":0, \n",
    "\t\t\t\"10\":1, \"11\":1, \"12\":1, \"13\":1, \"14\":1, \"15\":0, \"16\":0,\n",
    "\t\t\t\"17\":0, \"18\":1,\"19\":1, \"20\":1, \"21\":1, \"22\":0, \"23\":0,\n",
    "\t\t\t\"24\":1, \"25\":1, \"26\":1, \"27\":1, \"28\":1, \"29\":0}\n",
    "print(train_dataset_hparams)\n",
    "print(valid_dataset_hparams)\n",
    "print(test_dataset_hparams)\n"
   ]
  },
  {
   "cell_type": "code",
   "execution_count": 8,
   "metadata": {},
   "outputs": [
    {
     "name": "stdout",
     "output_type": "stream",
     "text": [
      "Loading training dataset from /home/liwei/AttnMove/data/pos.train.txt\n",
      "Loading testing dataset from /home/liwei/AttnMove/data/pos.test.txt\n",
      "Loading valid dataset from /home/liwei/AttnMove/data/pos.validate.txt\n",
      "Loading vocabulary dataset from /home/liwei/AttnMove/data/pos.vocab.txt\n"
     ]
    }
   ],
   "source": [
    "import dataset_utils\n",
    "from dataset_utils import TrainTestDataIterator\n",
    "\n",
    "word2id, id2word, traindata, testdata, trainuser, traintime, testuser, testtime, validdata, validuser, validtime, trainday, testday, validday = \\\n",
    "\t\t\t\tdataset_utils.loadDataset(train_dataset_hparams, valid_dataset_hparams, test_dataset_hparams, day_dic)"
   ]
  },
  {
   "cell_type": "code",
   "execution_count": null,
   "metadata": {},
   "outputs": [],
   "source": [
    "print(word2id)\n",
    "print(id2word)\n"
   ]
  }
 ],
 "metadata": {
  "kernelspec": {
   "display_name": "Python 3.6.13 ('attnmove')",
   "language": "python",
   "name": "python3"
  },
  "language_info": {
   "codemirror_mode": {
    "name": "ipython",
    "version": 3
   },
   "file_extension": ".py",
   "mimetype": "text/x-python",
   "name": "python",
   "nbconvert_exporter": "python",
   "pygments_lexer": "ipython3",
   "version": "3.6.13"
  },
  "orig_nbformat": 4,
  "vscode": {
   "interpreter": {
    "hash": "a3c9427f7acfce50998bd8538977cacec1968208394a3b4a0d4b876b7f55fd22"
   }
  }
 },
 "nbformat": 4,
 "nbformat_minor": 2
}
